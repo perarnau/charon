{
 "cells": [
  {
   "cell_type": "code",
   "execution_count": 5,
   "metadata": {},
   "outputs": [],
   "source": [
    "from prometheus_client import Gauge, Counter, start_http_server"
   ]
  },
  {
   "cell_type": "code",
   "execution_count": 2,
   "metadata": {},
   "outputs": [],
   "source": [
    "c = Counter(\"hello\", \"my copunter\")\n",
    "g = Gauge(\"my\", \"gauge\")"
   ]
  },
  {
   "cell_type": "code",
   "execution_count": 6,
   "metadata": {},
   "outputs": [
    {
     "name": "stdout",
     "output_type": "stream",
     "text": [
      "Help on function start_wsgi_server in module prometheus_client.exposition:\n",
      "\n",
      "start_wsgi_server(port: int, addr: str = '0.0.0.0', registry: prometheus_client.registry.CollectorRegistry = <prometheus_client.registry.CollectorRegistry object at 0x1094488f0>, certfile: Optional[str] = None, keyfile: Optional[str] = None, client_cafile: Optional[str] = None, client_capath: Optional[str] = None, protocol: int = <_SSLMethod.PROTOCOL_TLS_SERVER: 17>, client_auth_required: bool = False) -> Tuple[wsgiref.simple_server.WSGIServer, threading.Thread]\n",
      "    Starts a WSGI server for prometheus metrics as a daemon thread.\n",
      "\n"
     ]
    }
   ],
   "source": [
    "help(start_http_server)"
   ]
  }
 ],
 "metadata": {
  "kernelspec": {
   "display_name": "Python 3",
   "language": "python",
   "name": "python3"
  },
  "language_info": {
   "codemirror_mode": {
    "name": "ipython",
    "version": 3
   },
   "file_extension": ".py",
   "mimetype": "text/x-python",
   "name": "python",
   "nbconvert_exporter": "python",
   "pygments_lexer": "ipython3",
   "version": "3.12.2"
  }
 },
 "nbformat": 4,
 "nbformat_minor": 2
}
